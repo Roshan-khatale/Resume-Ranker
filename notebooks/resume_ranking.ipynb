{
  "cells": [
    {
      "cell_type": "code",
      "execution_count": null,
      "metadata": {},
      "outputs": [],
      "source": [
        "import pandas as pd\n",
        "from sklearn.feature_extraction.text import TfidfVectorizer\n",
        "from sklearn.metrics.pairwise import cosine_similarity\n",
        "import matplotlib.pyplot as plt\n\n",
        "resumes = pd.read_csv('../data/resumes.csv')\n",
        "jd = open('../data/job_description.txt').read()\n\n",
        "docs = resumes['resume'].tolist()\n",
        "vectorizer = TfidfVectorizer()\n",
        "X = vectorizer.fit_transform(docs + [jd])\n",
        "scores = cosine_similarity(X[-1], X[:-1])[0]\n",
        "resumes['score'] = scores\n\n",
        "resumes.sort_values('score', ascending=False, inplace=True)\n",
        "plt.bar(resumes['name'], resumes['score'])\n",
        "plt.title('Resume Matching Scores')\n",
        "plt.ylabel('Cosine Similarity')\n",
        "plt.show()"
      ]
    }
  ],
  "metadata": {},
  "nbformat": 4,
  "nbformat_minor": 5
}